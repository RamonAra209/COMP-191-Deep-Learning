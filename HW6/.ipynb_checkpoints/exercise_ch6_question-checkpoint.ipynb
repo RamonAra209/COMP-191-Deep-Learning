{
 "cells": [
  {
   "cell_type": "code",
   "execution_count": 1,
   "id": "a442a9a8-b49e-4101-a382-2e3342d7c9c9",
   "metadata": {},
   "outputs": [],
   "source": [
    "# Input and output vectors are given. \n",
    "inp = [ 0.7300, -1.0400, -1.2300,  1.6700, -0.6300,  1.4300, -0.8400,  0.1500,\n",
    "         -2.3000,  3.1000, -1.4500, -1.8100,  1.8700, -0.1100, -0.2800,  1.1200,\n",
    "         -0.4200,  2.8900]\n",
    "out = [ 1.43,  10.1,  8.3,  1.03,  10.21, -0.1,  8.92,  5.1,\n",
    "         -7.53, 34.72,  7.61,  3.2,  2.19,  7.15,  7.69, -0.18,\n",
    "          8.81, 23.1]"
   ]
  },
  {
   "cell_type": "code",
   "execution_count": 2,
   "id": "07978b6d-94d0-473b-a137-7199551249a4",
   "metadata": {},
   "outputs": [],
   "source": [
    "#Prepare the training and validation datasets: 80% training, 20% validation"
   ]
  },
  {
   "cell_type": "code",
   "execution_count": 4,
   "id": "0fa9e83f-8cf1-4ef0-bede-e6356e16634c",
   "metadata": {},
   "outputs": [],
   "source": [
    "#Create a NN that consists of:\n",
    "# a linear layer of input size 1 and output size 15, followed by hyperbolic tangent as its activation function\n",
    "# a linear layer of input size 15 and output size 23, followed by hyperbolic tangent as its activation function\n",
    "# a linear layer of input size 23 and output size 1\n",
    "\n",
    "# Write a little script that shows the number of parameters in each layer.\n",
    "# Based on the output of this script, report as a comment in your code how many weights and biases exist in each layer.\n",
    "\n",
    "# Next, define the training function that receives training and validation datasets, along with a model, loss function, \n",
    "# optimizer, and number of epochs. The function must use the model's own parameter handling and the the input loss function\n",
    "# to automatically calculate the gradient of the loss wrt parameters (autograd), and use optimizer to update the parameters \n",
    "# and zero the gradients. "
   ]
  },
  {
   "cell_type": "code",
   "execution_count": null,
   "id": "a3b3b7ea-9e5a-4326-ac0a-dc6ae8f62da7",
   "metadata": {},
   "outputs": [],
   "source": [
    "# Train your NN with built-in mean square error loss function and SGD optimizer. \n",
    "# Try different learning rates and number of epochs improve the results."
   ]
  },
  {
   "cell_type": "code",
   "execution_count": null,
   "id": "f8b15d0e-32c9-4e19-8a4a-203594d8a31a",
   "metadata": {},
   "outputs": [],
   "source": [
    "# Plot the trained function."
   ]
  }
 ],
 "metadata": {
  "kernelspec": {
   "display_name": "Python 3 (ipykernel)",
   "language": "python",
   "name": "python3"
  },
  "language_info": {
   "codemirror_mode": {
    "name": "ipython",
    "version": 3
   },
   "file_extension": ".py",
   "mimetype": "text/x-python",
   "name": "python",
   "nbconvert_exporter": "python",
   "pygments_lexer": "ipython3",
   "version": "3.10.6"
  }
 },
 "nbformat": 4,
 "nbformat_minor": 5
}
