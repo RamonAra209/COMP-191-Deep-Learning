{
 "cells": [
  {
   "cell_type": "code",
   "execution_count": 1,
   "id": "19496602",
   "metadata": {},
   "outputs": [],
   "source": [
    "import torch\n",
    "import pprint\n",
    "import torchvision\n",
    "from torchvision import models, transforms\n",
    "from PIL import Image"
   ]
  },
  {
   "cell_type": "code",
   "execution_count": 2,
   "id": "cad9a960",
   "metadata": {},
   "outputs": [],
   "source": [
    "image_names = [\"candy4.jpeg\", \"candy5.jpeg\"]\n",
    "images = [Image.open(img) for img in image_names]"
   ]
  },
  {
   "cell_type": "code",
   "execution_count": 3,
   "id": "de9b89a1",
   "metadata": {},
   "outputs": [],
   "source": [
    "resnet = models.resnet101(weights=torchvision.models.ResNet101_Weights.IMAGENET1K_V1)\n",
    "\n",
    "preprocess = transforms.Compose([\n",
    "    transforms.Resize(256),\n",
    "    transforms.CenterCrop(224),\n",
    "    transforms.ToTensor(),\n",
    "    transforms.Normalize(\n",
    "        mean=[0.485, 0.456, 0.406],\n",
    "        std=[0.229, 0.224, 0.225]\n",
    "    )\n",
    "])"
   ]
  },
  {
   "cell_type": "code",
   "execution_count": 4,
   "id": "f7647028",
   "metadata": {},
   "outputs": [],
   "source": [
    "img_tensors = [preprocess(img) for img in images]\n",
    "batch_tensors = [torch.unsqueeze(img_t, 0) for img_t in img_tensors]"
   ]
  },
  {
   "cell_type": "code",
   "execution_count": 5,
   "id": "ec222317",
   "metadata": {},
   "outputs": [],
   "source": [
    "resnet.eval()\n",
    "outputs = [resnet(batch_t) for batch_t in batch_tensors]"
   ]
  },
  {
   "cell_type": "code",
   "execution_count": 6,
   "id": "53302334",
   "metadata": {},
   "outputs": [
    {
     "name": "stdout",
     "output_type": "stream",
     "text": [
      "[tensor([259]), tensor([259])]\n"
     ]
    }
   ],
   "source": [
    "for i in outputs:\n",
    "    _, index = torch.max(i, 1)\n",
    "\n",
    "indices = [torch.max(out, 1).indices for out in outputs]\n",
    "print(indices)"
   ]
  },
  {
   "cell_type": "code",
   "execution_count": 7,
   "id": "96aa6909",
   "metadata": {},
   "outputs": [
    {
     "name": "stdout",
     "output_type": "stream",
     "text": [
      "candy4.jpeg\n",
      "[(\"259: 'Pomeranian',\", 99.87897491455078),\n",
      " (\"151: 'Chihuahua',\", 0.048462312668561935),\n",
      " (\"261: 'keeshond',\", 0.034530431032180786),\n",
      " (\"154: 'Pekinese, Pekingese, Peke',\", 0.01686878316104412),\n",
      " (\"157: 'papillon',\", 0.010804271325469017),\n",
      " (\"152: 'Japanese spaniel',\", 0.002236943459138274),\n",
      " (\"265: 'toy poodle',\", 0.0018744270782917738),\n",
      " (\"155: 'Shih-Tzu',\", 0.00035706613562069833),\n",
      " (\"192: 'cairn, cairn terrier',\", 0.00035551906330510974),\n",
      " (\"223: 'schipperke',\", 0.0003492470714263618)]\n",
      "candy5.jpeg\n",
      "[(\"259: 'Pomeranian',\", 99.90487670898438),\n",
      " (\"154: 'Pekinese, Pekingese, Peke',\", 0.062284424901008606),\n",
      " (\"151: 'Chihuahua',\", 0.009642297402024269),\n",
      " (\"263: 'Pembroke, Pembroke Welsh corgi',\", 0.006276996340602636),\n",
      " (\"157: 'papillon',\", 0.00566014414653182),\n",
      " (\"261: 'keeshond',\", 0.004148251377046108),\n",
      " (\"260: 'chow, chow chow',\", 0.0019690582994371653),\n",
      " (\"258: 'Samoyed, Samoyede',\", 0.0015442997682839632),\n",
      " (\"152: 'Japanese spaniel',\", 0.0009459663415327668),\n",
      " (\"778: 'scale, weighing machine',\", 0.00044835478183813393)]\n"
     ]
    }
   ],
   "source": [
    "with open(\"imagenet1000.txt\", 'r') as f:\n",
    "    lines = [line.strip() for line in f.readlines()]\n",
    "    \n",
    "    for i, val in enumerate(images):\n",
    "        print(image_names[i])\n",
    "        _, indices = torch.sort(outputs[i], descending=True)\n",
    "        percentage = torch.nn.functional.softmax(outputs[i], dim=1)[0] * 100\n",
    "        temp = [(lines[idx], percentage[idx].item()) for idx in indices[0][:10]]\n",
    "        pprint.pprint(temp)\n"
   ]
  }
 ],
 "metadata": {
  "kernelspec": {
   "display_name": "venv",
   "language": "python",
   "name": "venv"
  },
  "language_info": {
   "codemirror_mode": {
    "name": "ipython",
    "version": 3
   },
   "file_extension": ".py",
   "mimetype": "text/x-python",
   "name": "python",
   "nbconvert_exporter": "python",
   "pygments_lexer": "ipython3",
   "version": "3.10.6"
  }
 },
 "nbformat": 4,
 "nbformat_minor": 5
}
