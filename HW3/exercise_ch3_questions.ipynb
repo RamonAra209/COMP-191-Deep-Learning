{
 "cells": [
  {
   "cell_type": "code",
   "execution_count": null,
   "id": "b64bb2c2-534a-4c17-86ab-57ea31e4346e",
   "metadata": {},
   "outputs": [],
   "source": [
    "#Create a tensor t1 with random values that represents a batch of six RGB images of size 256 * 256."
   ]
  },
  {
   "cell_type": "code",
   "execution_count": null,
   "id": "25b3f693-198c-413c-8030-615a8b590320",
   "metadata": {},
   "outputs": [],
   "source": [
    "#Out of the created tensor t1, extract all six images' Green channel, restricted to the first 128 * 128 pixels.\n",
    "#What would be the size of this tensor?"
   ]
  },
  {
   "cell_type": "code",
   "execution_count": null,
   "id": "9b3fd81c-bd87-4db9-a54a-2aab20c9f4bb",
   "metadata": {},
   "outputs": [],
   "source": [
    "#In t1, compute the average of all three channels, i.e., change each image to a single channel image, by averaging\n",
    "# on all three channels in each pixel.\n",
    "#What is the size of this new tensor?"
   ]
  },
  {
   "cell_type": "code",
   "execution_count": null,
   "id": "17c5b8b9-5fb3-443c-b13a-dcaf2eab5f95",
   "metadata": {},
   "outputs": [],
   "source": [
    "#Convert the tensor to contain 16 bit float values. And check its type."
   ]
  },
  {
   "cell_type": "code",
   "execution_count": null,
   "id": "a052b9ce-2da2-44a5-a7d7-d716159003eb",
   "metadata": {},
   "outputs": [],
   "source": [
    "#Assume that tensor t2 is of size n * m. What would be its stride?\n",
    "#Assume that tensor t3 is of size p * n * m. What would be its stride?\n",
    "#Assume that tensor t4 is of size q * p * n * m. What would be its stride?\n",
    "#Can you generalize it? That is, assuming some tensor t has size n_1 * n_2 * ... * n_d, what would be its stride?"
   ]
  }
 ],
 "metadata": {
  "kernelspec": {
   "display_name": "Python 3 (ipykernel)",
   "language": "python",
   "name": "python3"
  },
  "language_info": {
   "codemirror_mode": {
    "name": "ipython",
    "version": 3
   },
   "file_extension": ".py",
   "mimetype": "text/x-python",
   "name": "python",
   "nbconvert_exporter": "python",
   "pygments_lexer": "ipython3",
   "version": "3.10.6"
  }
 },
 "nbformat": 4,
 "nbformat_minor": 5
}
