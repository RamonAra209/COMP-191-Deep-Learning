{
 "cells": [
  {
   "cell_type": "code",
   "execution_count": 1,
   "id": "e0342c11",
   "metadata": {},
   "outputs": [],
   "source": [
    "import torch"
   ]
  },
  {
   "cell_type": "code",
   "execution_count": 2,
   "id": "b64bb2c2-534a-4c17-86ab-57ea31e4346e",
   "metadata": {},
   "outputs": [
    {
     "data": {
      "text/plain": [
       "torch.Size([6, 3, 256, 256])"
      ]
     },
     "execution_count": 2,
     "metadata": {},
     "output_type": "execute_result"
    }
   ],
   "source": [
    "#Create a tensor t1 with random values that represents a batch of six RGB images of size 256 * 256.\n",
    "t1 = torch.randn(6, 3, 256, 256) # [img, RGB, width, height]\n",
    "t1.shape"
   ]
  },
  {
   "cell_type": "code",
   "execution_count": 3,
   "id": "25b3f693-198c-413c-8030-615a8b590320",
   "metadata": {},
   "outputs": [
    {
     "data": {
      "text/plain": [
       "torch.Size([6, 128, 128])"
      ]
     },
     "execution_count": 3,
     "metadata": {},
     "output_type": "execute_result"
    }
   ],
   "source": [
    "#Out of the created tensor t1, extract all six images' Green channel, restricted to the first 128 * 128 pixels.\n",
    "#What would be the size of this tensor?\n",
    "temp = t1[:, 1, :128, :128]\n",
    "temp.shape"
   ]
  },
  {
   "cell_type": "code",
   "execution_count": 4,
   "id": "9b3fd81c-bd87-4db9-a54a-2aab20c9f4bb",
   "metadata": {},
   "outputs": [
    {
     "data": {
      "text/plain": [
       "torch.Size([6, 256, 256])"
      ]
     },
     "execution_count": 4,
     "metadata": {},
     "output_type": "execute_result"
    }
   ],
   "source": [
    "#In t1, compute the average of all three channels, i.e., change each image to a single channel image, by averaging\n",
    "# on all three channels in each pixel.\n",
    "#What is the size of this new tensor?\n",
    "t1.mean(-3).shape"
   ]
  },
  {
   "cell_type": "code",
   "execution_count": 10,
   "id": "17c5b8b9-5fb3-443c-b13a-dcaf2eab5f95",
   "metadata": {},
   "outputs": [
    {
     "data": {
      "text/plain": [
       "torch.float16"
      ]
     },
     "execution_count": 10,
     "metadata": {},
     "output_type": "execute_result"
    }
   ],
   "source": [
    "#Convert the tensor to contain 16 bit float values. And check its type.\n",
    "t1 = t1.to(torch.float16)\n",
    "t1.dtype"
   ]
  },
  {
   "cell_type": "code",
   "execution_count": 58,
   "id": "a052b9ce-2da2-44a5-a7d7-d716159003eb",
   "metadata": {},
   "outputs": [
    {
     "name": "stdout",
     "output_type": "stream",
     "text": [
      "(3, 1)\n",
      "(15, 3, 1)\n",
      "(7200, 72, 12, 3, 1)\n"
     ]
    }
   ],
   "source": [
    "\"\"\" \n",
    "1) Assume that tensor t2 is of size n * m. What would be its stride?\n",
    "Stride = (m*1, 1))\n",
    "\n",
    "2) Assume that tensor t3 is of size p * n * m. What would be its stride?\n",
    "Stride = (n*m, m*1, 1)\n",
    "\n",
    "3) Assume that tensor t4 is of size q * p * n * m. What would be its stride?\n",
    "Stride = (p*n*m, n*m, m*1, 1)\n",
    "\n",
    "4) Can you generalize it? That is, assuming some tensor t has size n_1 * n_2 * ... * n_d, what would be its stride?\n",
    "Stride = \n",
    "stride = (\n",
    "    (n_d-1 * (n_d-2 * n_d-3 * ..., n_2 * n_1 * 1, n_1),\n",
    "    (n_d-2 * (n_d-3* n_d-4 * ..., n_2 * n_1 * 1, n_1), \n",
    "    ...., \n",
    "    (n_2 * n_1, n_1),\n",
    "    (n_1 * 1),\n",
    "    (1)\n",
    ")\n",
    "\"\"\""
   ]
  },
  {
   "cell_type": "code",
   "execution_count": null,
   "id": "696bd1cc",
   "metadata": {},
   "outputs": [],
   "source": []
  }
 ],
 "metadata": {
  "kernelspec": {
   "display_name": "venv",
   "language": "python",
   "name": "venv"
  },
  "language_info": {
   "codemirror_mode": {
    "name": "ipython",
    "version": 3
   },
   "file_extension": ".py",
   "mimetype": "text/x-python",
   "name": "python",
   "nbconvert_exporter": "python",
   "pygments_lexer": "ipython3",
   "version": "3.10.6"
  }
 },
 "nbformat": 4,
 "nbformat_minor": 5
}
