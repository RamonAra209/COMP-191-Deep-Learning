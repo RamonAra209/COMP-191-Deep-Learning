{
 "cells": [
  {
   "cell_type": "code",
   "execution_count": null,
   "id": "069e89fa-8aa8-478c-8d9d-c100df43b3ab",
   "metadata": {},
   "outputs": [],
   "source": [
    "# Input and output vectors are given. \n",
    "inp = [ 0.7300, -1.0400, -1.2300,  1.6700, -0.6300,  1.4300, -0.8400,  0.1500,\n",
    "         -2.3000,  3.1000, -1.4500, -1.8100,  1.8700, -0.1100, -0.2800,  1.1200,\n",
    "         -0.4200,  2.8900]\n",
    "out = [ 1.43,  10.1,  8.3,  1.03,  10.21, -0.1,  8.92,  5.1,\n",
    "         -7.53, 34.72,  7.61,  3.2,  2.19,  7.15,  7.69, -0.18,\n",
    "          8.81, 23.1]"
   ]
  },
  {
   "cell_type": "code",
   "execution_count": null,
   "id": "85cd7d2d-2354-4415-945e-706b1dafebc5",
   "metadata": {},
   "outputs": [],
   "source": [
    "# Define the polynomial model of degree 3, i.e., having 3 weights and 1 bias. \n",
    "# Also define the loss function\n",
    "\n"
   ]
  },
  {
   "cell_type": "code",
   "execution_count": null,
   "id": "ff844417-2447-4cd8-92dc-92c608f3fb72",
   "metadata": {},
   "outputs": [],
   "source": [
    "# Define gradient manually wrt the exisiting parameters\n",
    "# Note: You need to define appropriate derivative functions to define the gradient\n",
    "# Use the defined gradient function to define the training function \n",
    "# Note: You cannot use autograd and optimizers\n",
    "# Run it on the input and output vector with appropriate learning rate and number of iterations\n",
    "# Plot the learned curve"
   ]
  },
  {
   "cell_type": "code",
   "execution_count": null,
   "id": "2268934b-6862-422d-9960-a9e30091edd0",
   "metadata": {},
   "outputs": [],
   "source": [
    "# Use PyTorch's autograd to automatically compute the gradients \n",
    "# Define the training function\n",
    "# Note: You cannot use optimizers.\n",
    "# Run it on the input and output vector with appropriate learning rate and number of iterations\n",
    "# Plot the learned curve"
   ]
  },
  {
   "cell_type": "code",
   "execution_count": null,
   "id": "09b8d657-4aef-42a0-806e-0f3fa5c8d4a0",
   "metadata": {},
   "outputs": [],
   "source": [
    "# Use PyTorch's autograd to automatically compute the gradients \n",
    "# Use optimizers to abstract how parameters get updated\n",
    "# Define the training function\n",
    "# Run it on the input and output vector with appropriate learning rate, number of iterations, and SGD optimizer\n",
    "# Plot the learned curve"
   ]
  },
  {
   "cell_type": "code",
   "execution_count": null,
   "id": "f961f2ff-d345-4ef6-98ab-047ed9f4411d",
   "metadata": {},
   "outputs": [],
   "source": [
    "# Split the dataset to training set (80%) and validation set (20%) randomly\n",
    "# Use PyTorch's autograd to automatically compute the gradients \n",
    "# Use optimizers to abstract how parameters get updated\n",
    "# Define the training function that tracks both training and validation losses\n",
    "# Run it on the input and output vector with appropriate learning rate, number of iterations, and SGD optimizer\n",
    "# Plot the learned curve"
   ]
  }
 ],
 "metadata": {
  "kernelspec": {
   "display_name": "Python 3 (ipykernel)",
   "language": "python",
   "name": "python3"
  },
  "language_info": {
   "codemirror_mode": {
    "name": "ipython",
    "version": 3
   },
   "file_extension": ".py",
   "mimetype": "text/x-python",
   "name": "python",
   "nbconvert_exporter": "python",
   "pygments_lexer": "ipython3",
   "version": "3.10.6"
  }
 },
 "nbformat": 4,
 "nbformat_minor": 5
}
