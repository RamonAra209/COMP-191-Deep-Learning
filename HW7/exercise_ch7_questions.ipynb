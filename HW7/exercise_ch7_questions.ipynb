{
 "cells": [
  {
   "cell_type": "code",
   "execution_count": 1,
   "id": "c1470366",
   "metadata": {},
   "outputs": [],
   "source": [
    "import torch\n",
    "from torchvision import datasets, transforms\n",
    "import torch.optim as optim\n",
    "from matplotlib import pyplot as plt\n",
    "import torch.nn as nn"
   ]
  },
  {
   "cell_type": "code",
   "execution_count": 2,
   "id": "4c9f8542-5d29-49b9-881c-1becc1bb476a",
   "metadata": {},
   "outputs": [
    {
     "name": "stdout",
     "output_type": "stream",
     "text": [
      "Files already downloaded and verified\n",
      "Files already downloaded and verified\n"
     ]
    },
    {
     "name": "stderr",
     "output_type": "stream",
     "text": [
      "Clipping input data to the valid range for imshow with RGB data ([0..1] for floats or [0..255] for integers).\n"
     ]
    },
    {
     "name": "stdout",
     "output_type": "stream",
     "text": [
      "Size of ddh dataset 50000\n",
      "Size of ddh validation dataset 10000\n"
     ]
    },
    {
     "data": {
      "text/plain": [
       "<matplotlib.image.AxesImage at 0x15047dfc0>"
      ]
     },
     "execution_count": 2,
     "metadata": {},
     "output_type": "execute_result"
    },
    {
     "data": {
      "image/png": "[encoded data removed]",
      "text/plain": [
       "<Figure size 640x480 with 1 Axes>"
      ]
     },
     "metadata": {},
     "output_type": "display_data"
    }
   ],
   "source": [
    "# Download CIFAR 10 dataset for training and validation purposes and apply the following changes on each image:\n",
    "data_path = '../data-unversioned/p1ch7/'\n",
    "cifar10 = datasets.CIFAR10(data_path, train=True, download=True)\n",
    "cifar10_val = datasets.CIFAR10(data_path, train=False, download=True)\n",
    "\n",
    "# 1) make it a tensor\n",
    "\n",
    "# 2) normalize it based on the mean and standard deviation among all pixels in each channel (RGB).\n",
    "transforms.Normalize([0.4914, 0.4822, 0.4465], [0.2470, 0.2435, 0.2616])\n",
    "\n",
    "cifar10 = datasets.CIFAR10(\n",
    "    data_path, \n",
    "    train=True, \n",
    "    download=False,\n",
    "    transform=transforms.Compose([\n",
    "        transforms.ToTensor(),\n",
    "        transforms.Normalize([0.4914, 0.4822, 0.4465],\n",
    "                             [0.2470, 0.2435, 0.2616])\n",
    "]))\n",
    "\n",
    "cifar10_val = datasets.CIFAR10(\n",
    "    data_path, \n",
    "    train=False, \n",
    "    download=False,\n",
    "    transform=transforms.Compose([\n",
    "        transforms.ToTensor(),\n",
    "        transforms.Normalize([0.4914, 0.4822, 0.4465],\n",
    "                             [0.2470, 0.2435, 0.2616])\n",
    "]))\n",
    "\n",
    "# Print the size of training and validation datasets\n",
    "print(\"Size of ddh dataset\", len(cifar10))\n",
    "print(\"Size of ddh validation dataset\", len(cifar10_val))\n",
    "\n",
    "# Plot the last training image\n",
    "plt.imshow(cifar10[-1][0].permute(1, 2, 0))\n"
   ]
  },
  {
   "cell_type": "code",
   "execution_count": 3,
   "id": "f2d624f5-17cb-473e-8f5c-311327bd2c16",
   "metadata": {},
   "outputs": [
    {
     "name": "stderr",
     "output_type": "stream",
     "text": [
      "Clipping input data to the valid range for imshow with RGB data ([0..1] for floats or [0..255] for integers).\n"
     ]
    },
    {
     "name": "stdout",
     "output_type": "stream",
     "text": [
      "Size of cifar2 training set 15000\n",
      "Size of cifar2 validation set 3000\n"
     ]
    },
    {
     "data": {
      "text/plain": [
       "<matplotlib.image.AxesImage at 0x2b301a260>"
      ]
     },
     "execution_count": 3,
     "metadata": {},
     "output_type": "execute_result"
    },
    {
     "data": {
      "image/png": "[encoded data removed]",
      "text/plain": [
       "<Figure size 640x480 with 1 Axes>"
      ]
     },
     "metadata": {},
     "output_type": "display_data"
    }
   ],
   "source": [
    "# We want to make a tertiary classifier that distinguishes between deers, dogs, and horses, labeled as 4, 5, and 7, resp.\n",
    "# Create the subset training and validation datasets for this purpose.\n",
    "label_map = {4: 0, 5: 1, 7: 2}\n",
    "class_names = ['deers', 'dogs', 'horses']\n",
    "ddh = [(img, label_map[label])\n",
    "          for img, label in cifar10 if label in label_map.keys()]\n",
    "\n",
    "ddh_val = [(img, label_map[label])\n",
    "             for img, label in cifar10_val if label in label_map.keys()]\n",
    "\n",
    "# Print the size of these datasets.\n",
    "print(\"Size of cifar2 training set\", len(ddh))\n",
    "print(\"Size of cifar2 validation set\", len(ddh_val))\n",
    "\n",
    "# Plot the last training image\n",
    "plt.imshow(ddh[-1][0].permute(1, 2, 0))"
   ]
  },
  {
   "cell_type": "code",
   "execution_count": 4,
   "id": "17fdd55d-4b4e-4019-9dbf-78b8a6f3d807",
   "metadata": {},
   "outputs": [
    {
     "name": "stdout",
     "output_type": "stream",
     "text": [
      "Sequential(\n",
      "  (0): Linear(in_features=3072, out_features=1024, bias=True)\n",
      "  (1): Tanh()\n",
      "  (2): Linear(in_features=1024, out_features=256, bias=True)\n",
      "  (3): Tanh()\n",
      "  (4): Linear(in_features=256, out_features=3, bias=True)\n",
      "  (5): LogSoftmax(dim=1)\n",
      ")\n"
     ]
    }
   ],
   "source": [
    "# Create a NN consisting of \n",
    "# 1) a linear layer that receives appropriate number of input features and outputs 1024 features, followed by hyperbolic\n",
    "#    tangent as the activation function,\n",
    "# 2) a linear layer that receives appropriate number of input features and outputs 256 features, followed by hyperbolic\n",
    "#    tangent as the activation function,\n",
    "# 3) the final linear layer with appropriate input and output number of features, followed by logarithm of softmax\n",
    "\n",
    "model = nn.Sequential(\n",
    "    nn.Linear(3072, 1024), # 1024 total pixels per image * 3 channels (RGB) = 3072\n",
    "    nn.Tanh(),\n",
    "    nn.Linear(1024, 256),\n",
    "    nn.Tanh(),\n",
    "    nn.Linear(256, len(class_names)),\n",
    "    nn.LogSoftmax(dim=1)\n",
    ")\n",
    "\n",
    "# Print total number of exisiting parameters in the NN with respect to which gradient of loss must be computed.\n",
    "print(model)\n"
   ]
  },
  {
   "cell_type": "code",
   "execution_count": 5,
   "id": "379ac1ff-6929-47ba-baf6-c2391338a355",
   "metadata": {},
   "outputs": [
    {
     "name": "stdout",
     "output_type": "stream",
     "text": [
      "Training loader batches 469\n",
      "Validation loader batches 94\n",
      "Size of last train_loader: 24\n",
      "Size of last val_loader: 24\n"
     ]
    }
   ],
   "source": [
    "# Our training functionality is supposed to compute gradient on batches of training data, randlomy selected each time.\n",
    "# To this end, create a training data loader with batch size 32 that randomizes access to each batch.\n",
    "train_loader = torch.utils.data.DataLoader(\n",
    "    ddh,\n",
    "    batch_size=32,\n",
    "    shuffle=True\n",
    ")\n",
    "\n",
    "# Also, create a validation data loader with the same batch size that does not randomize access to each batch (no need!)\n",
    "val_loader = torch.utils.data.DataLoader(\n",
    "    ddh_val,\n",
    "    batch_size=32,\n",
    "    shuffle=False\n",
    ")\n",
    "\n",
    "# Print the number of batches in training and validation data loaders\n",
    "print(\"Training loader batches\", len(train_loader))\n",
    "print(\"Validation loader batches\", len(val_loader))\n",
    "\n",
    "# Print the size of the last batch in each of the training and validation loaders (they are not necessarily 32)\n",
    "for imgs, _ in train_loader:\n",
    "    last_size = imgs.shape[0]\n",
    "print(\"Size of last train_loader:\", last_size)\n",
    "\n",
    "for imgs, _ in val_loader:\n",
    "    last_size = imgs.shape[0]\n",
    "print(\"Size of last val_loader:\", last_size)"
   ]
  },
  {
   "cell_type": "code",
   "execution_count": 6,
   "id": "687d3810-855a-4b0e-9a2a-f316981a97ce",
   "metadata": {},
   "outputs": [],
   "source": [
    "# Define your training function that receives the data loaders, model, loss function, optimizer, and number of epochs.\n",
    "# In each epoch, you should go through each training data batch, and:\n",
    "# 1) compute the output batch, and accordingly the loss\n",
    "# 2) compute the gradient of loss wrt parameters, and update the parameters\n",
    "# After covering all epochs, your training function must report\n",
    "# 1) the training accuracy, and\n",
    "# 2) the validation accuracy\n",
    "\n",
    "def training_loop(train_loader, val_loader, model, loss_fn, optimizer, n_epochs):\n",
    "    for epoch in range(n_epochs):\n",
    "        for imgs, labels in train_loader:\n",
    "            batch_size = imgs.shape[0]\n",
    "            outputs = model(imgs.view(batch_size, -1))\n",
    "            loss = loss_fn(outputs, labels)\n",
    "            optimizer.zero_grad()\n",
    "            loss.backward()\n",
    "            optimizer.step()\n",
    "        print(\"Epoch: %d, Loss %f\" %(epoch, float(loss)))\n",
    "        \n",
    "    correct = 0\n",
    "    total = 0\n",
    "    with torch.no_grad():\n",
    "        for imgs, labels in val_loader:\n",
    "            batch_size = imgs.shape[0]\n",
    "            outputs = model(imgs.view(batch_size, -1))\n",
    "            _, predicted = torch.max(outputs, dim=1)\n",
    "            total += labels.shape[0]\n",
    "            correct += int((predicted == labels).sum())\n",
    "    \n",
    "    print(\"Correct:\", correct)\n",
    "    print(\"Total:\", total)\n",
    "    print(f\"Accuracy: {correct / total}\")\n",
    "\n",
    "        "
   ]
  },
  {
   "cell_type": "code",
   "execution_count": null,
   "id": "ab6a40a7-729a-4db5-9170-b7a90ba28189",
   "metadata": {},
   "outputs": [
    {
     "name": "stdout",
     "output_type": "stream",
     "text": [
      "Epoch: 0, Loss 0.912790\n",
      "Epoch: 1, Loss 0.992440\n",
      "Epoch: 2, Loss 0.936567\n",
      "Epoch: 3, Loss 0.750141\n",
      "Epoch: 4, Loss 0.879342\n",
      "Epoch: 5, Loss 0.822120\n",
      "Epoch: 6, Loss 0.756098\n",
      "Epoch: 7, Loss 0.583484\n",
      "Epoch: 8, Loss 0.650451\n",
      "Epoch: 9, Loss 0.644157\n",
      "Epoch: 10, Loss 0.624996\n",
      "Epoch: 11, Loss 0.636276\n",
      "Epoch: 12, Loss 0.511445\n",
      "Epoch: 13, Loss 0.522120\n",
      "Epoch: 14, Loss 0.433540\n",
      "Epoch: 15, Loss 0.581718\n",
      "Epoch: 16, Loss 0.285179\n",
      "Epoch: 17, Loss 0.510565\n",
      "Epoch: 18, Loss 0.414859\n",
      "Epoch: 19, Loss 0.269843\n",
      "Epoch: 20, Loss 0.221838\n",
      "Epoch: 21, Loss 0.211036\n",
      "Epoch: 22, Loss 0.205107\n",
      "Epoch: 23, Loss 0.197908\n",
      "Epoch: 24, Loss 0.224606\n",
      "Epoch: 25, Loss 0.132160\n",
      "Epoch: 26, Loss 0.070642\n",
      "Epoch: 27, Loss 0.045133\n",
      "Epoch: 28, Loss 0.032452\n",
      "Epoch: 29, Loss 0.012635\n",
      "Epoch: 30, Loss 0.013521\n",
      "Epoch: 31, Loss 0.039079\n",
      "Epoch: 32, Loss 0.009809\n",
      "Epoch: 33, Loss 0.014616\n",
      "Epoch: 34, Loss 0.005687\n",
      "Epoch: 35, Loss 0.010409\n",
      "Epoch: 36, Loss 0.004805\n",
      "Epoch: 37, Loss 0.004039\n",
      "Epoch: 38, Loss 0.013528\n",
      "Epoch: 39, Loss 0.005573\n",
      "Epoch: 40, Loss 0.003610\n",
      "Epoch: 41, Loss 0.002397\n",
      "Epoch: 42, Loss 0.003818\n",
      "Epoch: 43, Loss 0.002242\n",
      "Epoch: 44, Loss 0.003013\n",
      "Epoch: 45, Loss 0.002544\n",
      "Epoch: 46, Loss 0.002466\n",
      "Epoch: 47, Loss 0.002286\n",
      "Epoch: 48, Loss 0.002409\n",
      "Epoch: 49, Loss 0.002558\n",
      "Epoch: 50, Loss 0.001965\n",
      "Epoch: 51, Loss 0.001403\n",
      "Epoch: 52, Loss 0.001450\n",
      "Epoch: 53, Loss 0.001815\n",
      "Epoch: 54, Loss 0.001112\n",
      "Epoch: 55, Loss 0.004459\n",
      "Epoch: 56, Loss 0.001760\n",
      "Epoch: 57, Loss 0.001292\n",
      "Epoch: 58, Loss 0.002288\n",
      "Epoch: 59, Loss 0.001497\n",
      "Epoch: 60, Loss 0.001307\n",
      "Epoch: 61, Loss 0.001434\n",
      "Epoch: 62, Loss 0.001553\n",
      "Epoch: 63, Loss 0.000698\n",
      "Epoch: 64, Loss 0.001051\n",
      "Epoch: 65, Loss 0.001048\n",
      "Epoch: 66, Loss 0.001161\n",
      "Epoch: 67, Loss 0.001516\n",
      "Epoch: 68, Loss 0.000808\n",
      "Epoch: 69, Loss 0.001176\n",
      "Epoch: 70, Loss 0.000674\n",
      "Epoch: 71, Loss 0.000984\n",
      "Epoch: 72, Loss 0.001412\n",
      "Epoch: 73, Loss 0.001029\n",
      "Epoch: 74, Loss 0.001205\n",
      "Epoch: 75, Loss 0.000861\n",
      "Epoch: 76, Loss 0.000931\n",
      "Epoch: 77, Loss 0.000614\n",
      "Epoch: 78, Loss 0.000444\n",
      "Epoch: 79, Loss 0.000881\n"
     ]
    }
   ],
   "source": [
    "# Call the training function on the created data loaders, the created NN, negative log likelihood loss function, \n",
    "# stochastic gradient descent optimizer, and 100 epochs.\n",
    "\n",
    "training_loop(train_loader, \n",
    "              val_loader,\n",
    "              model,\n",
    "              loss_fn=nn.NLLLoss(),\n",
    "              optimizer=optim.SGD(model.parameters(), lr=1e-2),\n",
    "              n_epochs=100\n",
    ")\n",
    "\n",
    "# Is the model overfit for this problem? (Yes/No) Why?\n",
    "# The model overfits it becasue the accuracy is too low \n",
    "# whereas on the training data, it is higher"
   ]
  },
  {
   "cell_type": "code",
   "execution_count": null,
   "id": "4400a5e2",
   "metadata": {},
   "outputs": [],
   "source": []
  }
 ],
 "metadata": {
  "kernelspec": {
   "display_name": "Python 3 (ipykernel)",
   "language": "python",
   "name": "python3"
  },
  "language_info": {
   "codemirror_mode": {
    "name": "ipython",
    "version": 3
   },
   "file_extension": ".py",
   "mimetype": "text/x-python",
   "name": "python",
   "nbconvert_exporter": "python",
   "pygments_lexer": "ipython3",
   "version": "3.10.8"
  }
 },
 "nbformat": 4,
 "nbformat_minor": 5
}
