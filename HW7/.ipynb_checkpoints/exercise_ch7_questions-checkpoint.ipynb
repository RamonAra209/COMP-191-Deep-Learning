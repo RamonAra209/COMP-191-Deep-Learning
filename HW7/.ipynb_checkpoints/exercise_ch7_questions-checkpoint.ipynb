{
 "cells": [
  {
   "cell_type": "code",
   "execution_count": null,
   "id": "4c9f8542-5d29-49b9-881c-1becc1bb476a",
   "metadata": {},
   "outputs": [],
   "source": [
    "#Download CIFAR 10 dataset for training and validation purposes and apply the following changes on each image:\n",
    "# 1) make it a tensor\n",
    "# 2) normalize it based on the mean and standard deviation among all pixels in each channel (RGB).\n",
    "#Print the size of training and validation datasets\n",
    "#Plot the last training image"
   ]
  },
  {
   "cell_type": "code",
   "execution_count": null,
   "id": "f2d624f5-17cb-473e-8f5c-311327bd2c16",
   "metadata": {},
   "outputs": [],
   "source": [
    "#We want to make a tertiary classifier that distinguishes between deers, dogs, and horses, labeled as 4, 5, and 7, resp.\n",
    "#Create the subset training and validation datasets for this purpose.\n",
    "#Print the size of these datasets.\n",
    "#Plot the last training image"
   ]
  },
  {
   "cell_type": "code",
   "execution_count": null,
   "id": "17fdd55d-4b4e-4019-9dbf-78b8a6f3d807",
   "metadata": {},
   "outputs": [],
   "source": [
    "#Create a NN consisting of \n",
    "# 1) a linear layer that receives appropriate number of input features and outputs 1024 features, followed by hyperbolic\n",
    "#    tangent as the activation function,\n",
    "# 2) a linear layer that receives appropriate number of input features and outputs 256 features, followed by hyperbolic\n",
    "#    tangent as the activation function,\n",
    "# 3) the final linear layer with appropriate input and output number of features, followed by logarithm of softmax\n",
    "#Print total number of exisiting parameters in the NN with respect to which gradient of loss must be computed."
   ]
  },
  {
   "cell_type": "code",
   "execution_count": null,
   "id": "379ac1ff-6929-47ba-baf6-c2391338a355",
   "metadata": {},
   "outputs": [],
   "source": [
    "#Our training functionality is supposed to compute gradient on batches of training data, randlomy selected each time.\n",
    "#To this end, create a training data loader with batch size 32 that randomizes access to each batch.\n",
    "#Also, create a validation data loader with the same batch size that does not randomize access to each batch (no need!)\n",
    "#Print the number of batches in training and validation data loaders\n",
    "#Print the size of the last batch in each of the training and validation loaders (they are not necessarily 32)"
   ]
  },
  {
   "cell_type": "code",
   "execution_count": null,
   "id": "687d3810-855a-4b0e-9a2a-f316981a97ce",
   "metadata": {},
   "outputs": [],
   "source": [
    "#Define your training function that receives the data loaders, model, loss function, optimizer, and number of epochs.\n",
    "#In each epoch, you should go through each training data batch, and:\n",
    "# 1) compute the output batch, and accordingly the loss\n",
    "# 2) compute the gradient of loss wrt parameters, and update the parameters\n",
    "#After covering all epochs, your training function must report\n",
    "# 1) the training accuracy, and\n",
    "# 2) the validation accuracy"
   ]
  },
  {
   "cell_type": "code",
   "execution_count": null,
   "id": "ab6a40a7-729a-4db5-9170-b7a90ba28189",
   "metadata": {},
   "outputs": [],
   "source": [
    "#Call the training function on the created data loaders, the created NN, negative log likelihood loss function, \n",
    "# stochastic gradient descent optimizer, and 100 epochs.\n",
    "#Is the model overfit for this problem? (Yes/No) Why?"
   ]
  }
 ],
 "metadata": {
  "kernelspec": {
   "display_name": "Python 3 (ipykernel)",
   "language": "python",
   "name": "python3"
  },
  "language_info": {
   "codemirror_mode": {
    "name": "ipython",
    "version": 3
   },
   "file_extension": ".py",
   "mimetype": "text/x-python",
   "name": "python",
   "nbconvert_exporter": "python",
   "pygments_lexer": "ipython3",
   "version": "3.10.6"
  }
 },
 "nbformat": 4,
 "nbformat_minor": 5
}
